{
 "cells": [
  {
   "cell_type": "code",
   "execution_count": 18,
   "metadata": {
    "slideshow": {
     "slide_type": "skip"
    }
   },
   "outputs": [],
   "source": [
    "from IPython.display import HTML"
   ]
  },
  {
   "cell_type": "markdown",
   "metadata": {
    "slideshow": {
     "slide_type": "slide"
    }
   },
   "source": [
    "# Welcome to SIGAI\n",
    "---"
   ]
  },
  {
   "cell_type": "markdown",
   "metadata": {
    "slideshow": {
     "slide_type": "fragment"
    }
   },
   "source": [
    "## Spring 2018"
   ]
  },
  {
   "cell_type": "markdown",
   "metadata": {
    "slideshow": {
     "slide_type": "fragment"
    }
   },
   "source": [
    "### Introductions &amp; History of Artificial Intelligence"
   ]
  },
  {
   "cell_type": "markdown",
   "metadata": {
    "slideshow": {
     "slide_type": "slide"
    }
   },
   "source": [
    "# Agenda\n",
    "---"
   ]
  },
  {
   "cell_type": "markdown",
   "metadata": {
    "slideshow": {
     "slide_type": "fragment"
    }
   },
   "source": [
    "1. Introductions\n",
    "- Structure of <span class=\"ucfsigai-brand\"></span>\n",
    "- <span class=\"text-gold\">Lecture:</span> The History of Artificial Intelligence\n",
    "- Resources"
   ]
  },
  {
   "cell_type": "markdown",
   "metadata": {
    "slideshow": {
     "slide_type": "slide"
    }
   },
   "source": [
    "# Coordinators\n",
    "---"
   ]
  },
  {
   "cell_type": "code",
   "execution_count": 24,
   "metadata": {
    "scrolled": false,
    "slideshow": {
     "slide_type": "fragment"
    }
   },
   "outputs": [
    {
     "data": {
      "text/html": [
       "<div class=\"row\">\n",
       "  <div class=\"col-lg-4 col-md-6 col-12 mt-3 mb-3 d-flex\">\n",
       "    <div class=\"card card-dark\" style=\"flex: 1;\">\n",
       "      <div class=\"row\">\n",
       "        <div class=\"col-4 p-0\">\n",
       "          <img class=\"card-img-top\" src=\"https://avatars.githubusercontent.com/ionlights\" alt=\"$name\">\n",
       "        </div>\n",
       "        <div class=\"col-8 d-flex\" style=\"flex-direction: column; justify-content: center;\">\n",
       "          <h4 class=\"card-title mb-2 mt-0\"> John Muchovej </h4>\n",
       "          <h6 class=\"card-subtitle text-muted mt-1\"> Interim Director </h6>\n",
       "        </div>\n",
       "      </div>\n",
       "    </div>\n",
       "  </div>\n",
       "  <div class=\"col-lg-4 col-md-6 col-12 mt-3 mb-3 d-flex\">\n",
       "    <div class=\"card card-dark\" style=\"flex: 1;\">\n",
       "      <div class=\"row\">\n",
       "        <div class=\"col-4 p-0\">\n",
       "          <img class=\"card-img-top\" src=\"https://avatars.githubusercontent.com/thedibaccle\" alt=\"$name\">\n",
       "        </div>\n",
       "        <div class=\"col-8 d-flex\" style=\"flex-direction: column; justify-content: center;\">\n",
       "          <h4 class=\"card-title mb-2 mt-0\"> Richard DiBacco </h4>\n",
       "          <h6 class=\"card-subtitle text-muted mt-1\"> Coordinator </h6>\n",
       "        </div>\n",
       "      </div>\n",
       "    </div>\n",
       "  </div>\n",
       "</div>\n"
      ],
      "text/plain": [
       "<IPython.core.display.HTML object>"
      ]
     },
     "execution_count": 24,
     "metadata": {},
     "output_type": "execute_result"
    }
   ],
   "source": [
    "HTML(\"coordinators.html\")"
   ]
  },
  {
   "cell_type": "code",
   "execution_count": 29,
   "metadata": {
    "slideshow": {
     "slide_type": "slide"
    }
   },
   "outputs": [
    {
     "data": {
      "text/html": [
       "<div id=\"ucfsigai-mission\">\n",
       "  <p>\n",
       "    <strong class=\"text-gold\">Mission:</strong>\n",
       "    To foster a hotspot for the next generation of intelligence researchers and engineers at UCF.\n",
       "  </p>\n",
       "</div>\n"
      ],
      "text/plain": [
       "<IPython.core.display.HTML object>"
      ]
     },
     "execution_count": 29,
     "metadata": {},
     "output_type": "execute_result"
    }
   ],
   "source": [
    "HTML(\"../html/mission.html\")"
   ]
  },
  {
   "cell_type": "code",
   "execution_count": null,
   "metadata": {
    "slideshow": {
     "slide_type": "slide"
    }
   },
   "outputs": [],
   "source": [
    "HTML(\"syllabus.html\")"
   ]
  }
 ],
 "metadata": {
  "authors": [
   {
    "github": "ionlights",
    "name": "John Muchovej"
   },
   {
    "github": "thedibaccle",
    "name": "Richard DiBacco"
   }
  ],
  "celltoolbar": "Slideshow",
  "kernelspec": {
   "display_name": "Python 3",
   "language": "python",
   "name": "python3"
  },
  "language_info": {
   "codemirror_mode": {
    "name": "ipython",
    "version": 3
   },
   "file_extension": ".py",
   "mimetype": "text/x-python",
   "name": "python",
   "nbconvert_exporter": "python",
   "pygments_lexer": "ipython3",
   "version": "3.6.1"
  },
  "livereveal": {
   "autolaunch": true,
   "footer": "<footer id=\"slide_foot\">\n  <div  id=\"slide_foot-brand\">\n    <span class=\"ucfsigai-brand\"></span>\n  </div>\n  <div  id=\"slide_foot-unit\">\n    <span class=\"text-gold\"> U0: </span>&nbsp;<span class=\"text-white\"> Intros </span>\n  </div>\n  <a    id=\"slide_foot-attend\" href=\"https://goo.gl/\">\n      <span class=\"text-white\"> https://goo.gl/ </span>\n  </a>\n  <div  id=\"slide_foot-date\">\n    <span class=\"text-white\"> Jan 17, 2018 </span>\n  </div>\n</footer>\n"
  }
 },
 "nbformat": 4,
 "nbformat_minor": 2
}
