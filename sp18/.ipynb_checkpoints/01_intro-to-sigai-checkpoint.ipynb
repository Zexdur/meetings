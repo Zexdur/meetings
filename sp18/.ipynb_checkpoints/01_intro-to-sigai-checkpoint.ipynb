{
 "cells": [
  {
   "cell_type": "markdown",
   "metadata": {
    "slideshow": {
     "slide_type": "slide"
    }
   },
   "source": [
    "# Welcome to SIGAI, Spring 2018"
   ]
  },
  {
   "cell_type": "code",
   "execution_count": 4,
   "metadata": {
    "slideshow": {
     "slide_type": "skip"
    }
   },
   "outputs": [],
   "source": [
    "from string import Template\n",
    "from IPython.display import HTML\n",
    "\n",
    "def get_coordinators():\n",
    "    coord_template = Template(\n",
    "        '''\n",
    "        <div class=\"col-lg-3 col-md-6 col-12 mt-3 mb-3 d-flex\">\n",
    "          <div class=\"card card-dark\" style=\"flex: 1;\">\n",
    "            <img class=\"card-img-top\" src=\"https://avatars.githubusercontent.com/$github\" alt=\"$name\">\n",
    "            <div class=\"card-body\">\n",
    "              <h4 class=\"card-title\"> $name </h4>\n",
    "              <h6 class=\"card-subtitle text-muted\"> $position </h6>\n",
    "            </div>\n",
    "          </div>\n",
    "        </div>\n",
    "        '''\n",
    "    )\n",
    "\n",
    "    import yaml\n",
    "\n",
    "    with open(\"coordinators.yml\", \"r\") as coord_yml:\n",
    "        coords = yaml.load(coord_yml)\n",
    "\n",
    "    render  = ''' <h1 style=\"text-align: center;\"> Coordinators </h1> <br>'''\n",
    "    render += ''' <div class=\"row mb-5\"> '''\n",
    "\n",
    "    for coord in coords:\n",
    "        render += coord_template.substitute({\"name\": coord[\"name\"], \"github\": coord[\"github\"], \"position\": coord[\"position\"]})\n",
    "\n",
    "    render += ''' </div> '''\n",
    "\n",
    "    display(HTML(render))"
   ]
  },
  {
   "cell_type": "code",
   "execution_count": 5,
   "metadata": {
    "slideshow": {
     "slide_type": "fragment"
    }
   },
   "outputs": [
    {
     "data": {
      "text/html": [
       " <h1 style=\"text-align: center;\"> Coordinators </h1> <br> <div class=\"row mb-5\"> \n",
       "        <div class=\"col-lg-3 col-md-6 col-12 mt-3 mb-3 d-flex\">\n",
       "          <div class=\"card card-dark\" style=\"flex: 1;\">\n",
       "            <img class=\"card-img-top\" src=\"https://avatars.githubusercontent.com/ionlights\" alt=\"John Muchovej\">\n",
       "            <div class=\"card-body\">\n",
       "              <h4 class=\"card-title\"> John Muchovej </h4>\n",
       "              <h6 class=\"card-subtitle text-muted\"> Interim Director </h6>\n",
       "            </div>\n",
       "          </div>\n",
       "        </div>\n",
       "        \n",
       "        <div class=\"col-lg-3 col-md-6 col-12 mt-3 mb-3 d-flex\">\n",
       "          <div class=\"card card-dark\" style=\"flex: 1;\">\n",
       "            <img class=\"card-img-top\" src=\"https://avatars.githubusercontent.com/thedibaccle\" alt=\"Richard DiBacco\">\n",
       "            <div class=\"card-body\">\n",
       "              <h4 class=\"card-title\"> Richard DiBacco </h4>\n",
       "              <h6 class=\"card-subtitle text-muted\"> Coordinator </h6>\n",
       "            </div>\n",
       "          </div>\n",
       "        </div>\n",
       "         </div> "
      ],
      "text/plain": [
       "<IPython.core.display.HTML object>"
      ]
     },
     "metadata": {},
     "output_type": "display_data"
    }
   ],
   "source": [
    "get_coordinators()"
   ]
  },
  {
   "cell_type": "markdown",
   "metadata": {
    "slideshow": {
     "slide_type": "slide"
    }
   },
   "source": [
    "# Agenda"
   ]
  },
  {
   "cell_type": "markdown",
   "metadata": {
    "slideshow": {
     "slide_type": "fragment"
    }
   },
   "source": [
    "- Introductions"
   ]
  },
  {
   "cell_type": "markdown",
   "metadata": {
    "slideshow": {
     "slide_type": "fragment"
    }
   },
   "source": [
    "- News &amp; Structure of <span class=\"ucfsigai-brand\"></span>"
   ]
  }
 ],
 "metadata": {
  "celltoolbar": "Slideshow",
  "kernelspec": {
   "display_name": "Python 3",
   "language": "python",
   "name": "python3"
  },
  "language_info": {
   "codemirror_mode": {
    "name": "ipython",
    "version": 3
   },
   "file_extension": ".py",
   "mimetype": "text/x-python",
   "name": "python",
   "nbconvert_exporter": "python",
   "pygments_lexer": "ipython3",
   "version": "3.6.1"
  },
  "livereveal": {
   "autolaunch": true,
   "footer": "<footer style='width: 100vw; height: 84px; display: flex; background: #32333d; padding: 0 3rem; font-size: 1.75em;'> <div style='width: 15%; display: flex; align-items: center;'> <span class='ucfsigai-brand'></span> </div> <div style='width: 65%; display: flex; align-items: center;'> <span class='text-gold'> U0: </span>&nbsp;<span class='text-white'> Neural Networks </span> </div> <div class='text-white' style='width: 10%; display: flex; align-items: center; justify-content: flex-end;'> <a href='https://goo.gl/sMpUz3'> <span class='text-white'> goo.gl/sMpUz3 </span> </a> </div> <div class='text-white' style='width: 10%; display: flex; align-items: center; justify-content: flex-end;'> <span class='text-white'> Dec 12, 2017 </span> </div> </footer>"
  }
 },
 "nbformat": 4,
 "nbformat_minor": 2
}
